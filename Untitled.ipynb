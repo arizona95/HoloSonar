{
 "cells": [
  {
   "cell_type": "code",
   "execution_count": 1,
   "id": "ea44c507",
   "metadata": {},
   "outputs": [],
   "source": [
    "%matplotlib inline\n",
    "#%matplotlib notebook\n",
    "import matplotlib\n",
    "import numpy as np\n",
    "import matplotlib.pyplot as plt\n",
    "import holoocean\n",
    "from pynput import keyboard\n",
    "from tqdm import tqdm"
   ]
  },
  {
   "cell_type": "code",
   "execution_count": null,
   "id": "76dd3df1",
   "metadata": {},
   "outputs": [],
   "source": [
    "scenario = \"PierHarbor-HoveringImagingSonar\"\n",
    "config = holoocean.packagemanager.get_scenario(scenario)"
   ]
  },
  {
   "cell_type": "code",
   "execution_count": null,
   "id": "1cb0196d",
   "metadata": {},
   "outputs": [],
   "source": [
    "config = config['agents'][0]['sensors'][-1][\"configuration\"]\n",
    "azi = config['Azimuth']\n",
    "minR = config['RangeMin']\n",
    "maxR = config['RangeMax']\n",
    "binsR = config['RangeBins']\n",
    "binsA = config['AzimuthBins']"
   ]
  },
  {
   "cell_type": "code",
   "execution_count": null,
   "id": "051a92bc",
   "metadata": {},
   "outputs": [],
   "source": [
    "plt.ion()\n",
    "fig, ax = plt.subplots(subplot_kw=dict(projection='polar'), figsize=(8,5))\n",
    "ax.set_theta_zero_location(\"N\")\n",
    "ax.set_thetamin(-azi/2)\n",
    "ax.set_thetamax(azi/2)\n",
    "\n",
    "theta = np.linspace(-azi/2, azi/2, binsA)*np.pi/180\n",
    "r = np.linspace(minR, maxR, binsR)\n",
    "T, R = np.meshgrid(theta, r)\n",
    "z = np.zeros_like(T)\n",
    "\n",
    "plt.grid(False)\n",
    "plot = ax.pcolormesh(T, R, z, cmap='gray', shading='auto', vmin=0, vmax=1)\n",
    "plt.tight_layout()\n",
    "fig.canvas.draw()\n",
    "fig.canvas.flush_events()"
   ]
  },
  {
   "cell_type": "code",
   "execution_count": null,
   "id": "5b0cb4c7",
   "metadata": {},
   "outputs": [],
   "source": [
    "command = np.array([0,0,0,0,-20,-20,-20,-20])\n",
    "with holoocean.make(scenario) as env:\n",
    "    for i in tqdm(range(1000)):\n",
    "        env.act(\"auv0\", command)\n",
    "        state = env.tick()\n",
    "\n",
    "        if 'ImagingSonar' in state:\n",
    "            s = state['ImagingSonar']\n",
    "            plot.set_array(s.ravel())\n",
    "\n",
    "            fig.canvas.draw()\n",
    "            fig.canvas.flush_events()"
   ]
  },
  {
   "cell_type": "code",
   "execution_count": null,
   "id": "8cb56f24",
   "metadata": {},
   "outputs": [],
   "source": [
    "fig"
   ]
  },
  {
   "cell_type": "code",
   "execution_count": null,
   "id": "9e8ad157",
   "metadata": {},
   "outputs": [],
   "source": [
    "pressed_keys = list()\n",
    "force = 25\n",
    "\n",
    "def on_press(key):\n",
    "    global pressed_keys\n",
    "    if hasattr(key, 'char'):\n",
    "        pressed_keys.append(key.char)\n",
    "        pressed_keys = list(set(pressed_keys))\n",
    "\n",
    "def on_release(key):\n",
    "    global pressed_keys\n",
    "    if hasattr(key, 'char'):\n",
    "        pressed_keys.remove(key.char)\n",
    "\n",
    "listener = keyboard.Listener(\n",
    "    on_press=on_press,\n",
    "    on_release=on_release)\n",
    "listener.start()\n",
    "\n",
    "def parse_keys(keys, val):\n",
    "    command = np.zeros(8)\n",
    "    if 'i' in keys:\n",
    "        command[0:4] += val\n",
    "    if 'k' in keys:\n",
    "        command[0:4] -= val\n",
    "    if 'j' in keys:\n",
    "        command[[4,7]] += val\n",
    "        command[[5,6]] -= val\n",
    "    if 'l' in keys:\n",
    "        command[[4,7]] -= val\n",
    "        command[[5,6]] += val\n",
    "\n",
    "    if 'w' in keys:\n",
    "        command[4:8] += val\n",
    "    if 's' in keys:\n",
    "        command[4:8] -= val\n",
    "    if 'a' in keys:\n",
    "        command[[4,6]] += val\n",
    "        command[[5,7]] -= val\n",
    "    if 'd' in keys:\n",
    "        command[[4,6]] -= val\n",
    "        command[[5,7]] += val\n",
    "\n",
    "    return command\n",
    "\n",
    "with holoocean.make(\"Dam-Hovering\") as env:\n",
    "    while True:\n",
    "        if 'q' in pressed_keys:\n",
    "            break\n",
    "        command = parse_keys(pressed_keys, force)\n",
    "\n",
    "        #send to holoocean\n",
    "        env.act(\"auv0\", command)\n",
    "        state = env.tick()"
   ]
  },
  {
   "cell_type": "code",
   "execution_count": null,
   "id": "74d3ece7",
   "metadata": {},
   "outputs": [],
   "source": []
  }
 ],
 "metadata": {
  "kernelspec": {
   "display_name": "tensorflow",
   "language": "python",
   "name": "tensorflow"
  },
  "language_info": {
   "codemirror_mode": {
    "name": "ipython",
    "version": 3
   },
   "file_extension": ".py",
   "mimetype": "text/x-python",
   "name": "python",
   "nbconvert_exporter": "python",
   "pygments_lexer": "ipython3",
   "version": "3.8.18"
  }
 },
 "nbformat": 4,
 "nbformat_minor": 5
}
